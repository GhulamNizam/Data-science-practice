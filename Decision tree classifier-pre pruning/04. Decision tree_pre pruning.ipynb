{
 "cells": [
  {
   "cell_type": "code",
   "execution_count": 1,
   "id": "1d65bcc1",
   "metadata": {},
   "outputs": [],
   "source": [
    "import pandas as pd\n",
    "import seaborn as sns\n",
    "import numpy as np"
   ]
  },
  {
   "cell_type": "code",
   "execution_count": 2,
   "id": "8dad8827",
   "metadata": {},
   "outputs": [],
   "source": [
    "df = pd.read_csv('iris.csv',header=None)"
   ]
  },
  {
   "cell_type": "code",
   "execution_count": 3,
   "id": "4817db91",
   "metadata": {},
   "outputs": [
    {
     "name": "stdout",
     "output_type": "stream",
     "text": [
      "Iris-virginica     50\n",
      "Iris-setosa        50\n",
      "Iris-versicolor    50\n",
      "Name: 4, dtype: int64\n"
     ]
    }
   ],
   "source": [
    "df.head()\n",
    "print(df[4].value_counts())\n",
    "# df"
   ]
  },
  {
   "cell_type": "code",
   "execution_count": 4,
   "id": "020d49cc",
   "metadata": {},
   "outputs": [],
   "source": [
    "df[4] = df[4].replace({'Iris-setosa':1,'Iris-virginica':2,'Iris-versicolor':3})"
   ]
  },
  {
   "cell_type": "code",
   "execution_count": 5,
   "id": "bfd7970e",
   "metadata": {},
   "outputs": [
    {
     "data": {
      "text/html": [
       "<div>\n",
       "<style scoped>\n",
       "    .dataframe tbody tr th:only-of-type {\n",
       "        vertical-align: middle;\n",
       "    }\n",
       "\n",
       "    .dataframe tbody tr th {\n",
       "        vertical-align: top;\n",
       "    }\n",
       "\n",
       "    .dataframe thead th {\n",
       "        text-align: right;\n",
       "    }\n",
       "</style>\n",
       "<table border=\"1\" class=\"dataframe\">\n",
       "  <thead>\n",
       "    <tr style=\"text-align: right;\">\n",
       "      <th></th>\n",
       "      <th>0</th>\n",
       "      <th>1</th>\n",
       "      <th>2</th>\n",
       "      <th>3</th>\n",
       "      <th>4</th>\n",
       "    </tr>\n",
       "  </thead>\n",
       "  <tbody>\n",
       "    <tr>\n",
       "      <th>0</th>\n",
       "      <td>5.1</td>\n",
       "      <td>3.5</td>\n",
       "      <td>1.4</td>\n",
       "      <td>0.2</td>\n",
       "      <td>1</td>\n",
       "    </tr>\n",
       "    <tr>\n",
       "      <th>1</th>\n",
       "      <td>4.9</td>\n",
       "      <td>3.0</td>\n",
       "      <td>1.4</td>\n",
       "      <td>0.2</td>\n",
       "      <td>1</td>\n",
       "    </tr>\n",
       "    <tr>\n",
       "      <th>2</th>\n",
       "      <td>4.7</td>\n",
       "      <td>3.2</td>\n",
       "      <td>1.3</td>\n",
       "      <td>0.2</td>\n",
       "      <td>1</td>\n",
       "    </tr>\n",
       "    <tr>\n",
       "      <th>3</th>\n",
       "      <td>4.6</td>\n",
       "      <td>3.1</td>\n",
       "      <td>1.5</td>\n",
       "      <td>0.2</td>\n",
       "      <td>1</td>\n",
       "    </tr>\n",
       "    <tr>\n",
       "      <th>4</th>\n",
       "      <td>5.0</td>\n",
       "      <td>3.6</td>\n",
       "      <td>1.4</td>\n",
       "      <td>0.2</td>\n",
       "      <td>1</td>\n",
       "    </tr>\n",
       "    <tr>\n",
       "      <th>...</th>\n",
       "      <td>...</td>\n",
       "      <td>...</td>\n",
       "      <td>...</td>\n",
       "      <td>...</td>\n",
       "      <td>...</td>\n",
       "    </tr>\n",
       "    <tr>\n",
       "      <th>145</th>\n",
       "      <td>6.7</td>\n",
       "      <td>3.0</td>\n",
       "      <td>5.2</td>\n",
       "      <td>2.3</td>\n",
       "      <td>2</td>\n",
       "    </tr>\n",
       "    <tr>\n",
       "      <th>146</th>\n",
       "      <td>6.3</td>\n",
       "      <td>2.5</td>\n",
       "      <td>5.0</td>\n",
       "      <td>1.9</td>\n",
       "      <td>2</td>\n",
       "    </tr>\n",
       "    <tr>\n",
       "      <th>147</th>\n",
       "      <td>6.5</td>\n",
       "      <td>3.0</td>\n",
       "      <td>5.2</td>\n",
       "      <td>2.0</td>\n",
       "      <td>2</td>\n",
       "    </tr>\n",
       "    <tr>\n",
       "      <th>148</th>\n",
       "      <td>6.2</td>\n",
       "      <td>3.4</td>\n",
       "      <td>5.4</td>\n",
       "      <td>2.3</td>\n",
       "      <td>2</td>\n",
       "    </tr>\n",
       "    <tr>\n",
       "      <th>149</th>\n",
       "      <td>5.9</td>\n",
       "      <td>3.0</td>\n",
       "      <td>5.1</td>\n",
       "      <td>1.8</td>\n",
       "      <td>2</td>\n",
       "    </tr>\n",
       "  </tbody>\n",
       "</table>\n",
       "<p>150 rows × 5 columns</p>\n",
       "</div>"
      ],
      "text/plain": [
       "       0    1    2    3  4\n",
       "0    5.1  3.5  1.4  0.2  1\n",
       "1    4.9  3.0  1.4  0.2  1\n",
       "2    4.7  3.2  1.3  0.2  1\n",
       "3    4.6  3.1  1.5  0.2  1\n",
       "4    5.0  3.6  1.4  0.2  1\n",
       "..   ...  ...  ...  ... ..\n",
       "145  6.7  3.0  5.2  2.3  2\n",
       "146  6.3  2.5  5.0  1.9  2\n",
       "147  6.5  3.0  5.2  2.0  2\n",
       "148  6.2  3.4  5.4  2.3  2\n",
       "149  5.9  3.0  5.1  1.8  2\n",
       "\n",
       "[150 rows x 5 columns]"
      ]
     },
     "execution_count": 5,
     "metadata": {},
     "output_type": "execute_result"
    }
   ],
   "source": [
    "df"
   ]
  },
  {
   "cell_type": "code",
   "execution_count": 6,
   "id": "245c0ac5",
   "metadata": {},
   "outputs": [],
   "source": [
    "x = df.iloc[:,:-1]\n",
    "y = df.iloc[:,-1]"
   ]
  },
  {
   "cell_type": "code",
   "execution_count": 7,
   "id": "ee2cb8f7",
   "metadata": {},
   "outputs": [],
   "source": [
    "from sklearn.model_selection import train_test_split as tts"
   ]
  },
  {
   "cell_type": "code",
   "execution_count": 8,
   "id": "df9c1a89",
   "metadata": {},
   "outputs": [],
   "source": [
    "x_train,x_test,y_train,y_test = tts(x,y,test_size = .33)"
   ]
  },
  {
   "cell_type": "code",
   "execution_count": 9,
   "id": "97692f74",
   "metadata": {},
   "outputs": [
    {
     "data": {
      "text/plain": [
       "(       0    1    2    3\n",
       " 68   6.2  2.2  4.5  1.5\n",
       " 109  7.2  3.6  6.1  2.5\n",
       " 83   6.0  2.7  5.1  1.6\n",
       " 107  7.3  2.9  6.3  1.8\n",
       " 41   4.5  2.3  1.3  0.3\n",
       " ..   ...  ...  ...  ...\n",
       " 29   4.7  3.2  1.6  0.2\n",
       " 51   6.4  3.2  4.5  1.5\n",
       " 113  5.7  2.5  5.0  2.0\n",
       " 3    4.6  3.1  1.5  0.2\n",
       " 145  6.7  3.0  5.2  2.3\n",
       " \n",
       " [100 rows x 4 columns],\n",
       "        0    1    2    3\n",
       " 17   5.1  3.5  1.4  0.3\n",
       " 100  6.3  3.3  6.0  2.5\n",
       " 99   5.7  2.8  4.1  1.3\n",
       " 92   5.8  2.6  4.0  1.2\n",
       " 70   5.9  3.2  4.8  1.8\n",
       " 53   5.5  2.3  4.0  1.3\n",
       " 50   7.0  3.2  4.7  1.4\n",
       " 119  6.0  2.2  5.0  1.5\n",
       " 79   5.7  2.6  3.5  1.0\n",
       " 144  6.7  3.3  5.7  2.5\n",
       " 84   5.4  3.0  4.5  1.5\n",
       " 37   4.9  3.1  1.5  0.1\n",
       " 32   5.2  4.1  1.5  0.1\n",
       " 80   5.5  2.4  3.8  1.1\n",
       " 86   6.7  3.1  4.7  1.5\n",
       " 131  7.9  3.8  6.4  2.0\n",
       " 44   5.1  3.8  1.9  0.4\n",
       " 78   6.0  2.9  4.5  1.5\n",
       " 133  6.3  2.8  5.1  1.5\n",
       " 61   5.9  3.0  4.2  1.5\n",
       " 123  6.3  2.7  4.9  1.8\n",
       " 116  6.5  3.0  5.5  1.8\n",
       " 90   5.5  2.6  4.4  1.2\n",
       " 48   5.3  3.7  1.5  0.2\n",
       " 75   6.6  3.0  4.4  1.4\n",
       " 88   5.6  3.0  4.1  1.3\n",
       " 27   5.2  3.5  1.5  0.2\n",
       " 77   6.7  3.0  5.0  1.7\n",
       " 43   5.0  3.5  1.6  0.6\n",
       " 65   6.7  3.1  4.4  1.4\n",
       " 54   6.5  2.8  4.6  1.5\n",
       " 35   5.0  3.2  1.2  0.2\n",
       " 20   5.4  3.4  1.7  0.2\n",
       " 24   4.8  3.4  1.9  0.2\n",
       " 147  6.5  3.0  5.2  2.0\n",
       " 138  6.0  3.0  4.8  1.8\n",
       " 112  6.8  3.0  5.5  2.1\n",
       " 124  6.7  3.3  5.7  2.1\n",
       " 46   5.1  3.8  1.6  0.2\n",
       " 71   6.1  2.8  4.0  1.3\n",
       " 62   6.0  2.2  4.0  1.0\n",
       " 120  6.9  3.2  5.7  2.3\n",
       " 91   6.1  3.0  4.6  1.4\n",
       " 59   5.2  2.7  3.9  1.4\n",
       " 115  6.4  3.2  5.3  2.3\n",
       " 142  5.8  2.7  5.1  1.9\n",
       " 141  6.9  3.1  5.1  2.3\n",
       " 105  7.6  3.0  6.6  2.1\n",
       " 22   4.6  3.6  1.0  0.2\n",
       " 55   5.7  2.8  4.5  1.3,\n",
       " 68     3\n",
       " 109    2\n",
       " 83     3\n",
       " 107    2\n",
       " 41     1\n",
       "       ..\n",
       " 29     1\n",
       " 51     3\n",
       " 113    2\n",
       " 3      1\n",
       " 145    2\n",
       " Name: 4, Length: 100, dtype: int64,\n",
       " 17     1\n",
       " 100    2\n",
       " 99     3\n",
       " 92     3\n",
       " 70     3\n",
       " 53     3\n",
       " 50     3\n",
       " 119    2\n",
       " 79     3\n",
       " 144    2\n",
       " 84     3\n",
       " 37     1\n",
       " 32     1\n",
       " 80     3\n",
       " 86     3\n",
       " 131    2\n",
       " 44     1\n",
       " 78     3\n",
       " 133    2\n",
       " 61     3\n",
       " 123    2\n",
       " 116    2\n",
       " 90     3\n",
       " 48     1\n",
       " 75     3\n",
       " 88     3\n",
       " 27     1\n",
       " 77     3\n",
       " 43     1\n",
       " 65     3\n",
       " 54     3\n",
       " 35     1\n",
       " 20     1\n",
       " 24     1\n",
       " 147    2\n",
       " 138    2\n",
       " 112    2\n",
       " 124    2\n",
       " 46     1\n",
       " 71     3\n",
       " 62     3\n",
       " 120    2\n",
       " 91     3\n",
       " 59     3\n",
       " 115    2\n",
       " 142    2\n",
       " 141    2\n",
       " 105    2\n",
       " 22     1\n",
       " 55     3\n",
       " Name: 4, dtype: int64)"
      ]
     },
     "execution_count": 9,
     "metadata": {},
     "output_type": "execute_result"
    }
   ],
   "source": [
    "x_train,x_test,y_train,y_test"
   ]
  },
  {
   "cell_type": "code",
   "execution_count": 11,
   "id": "4dec9b56",
   "metadata": {},
   "outputs": [],
   "source": [
    "from sklearn.tree import DecisionTreeClassifier"
   ]
  },
  {
   "cell_type": "code",
   "execution_count": 17,
   "id": "52e9ba0c",
   "metadata": {},
   "outputs": [],
   "source": [
    "# PrePruning\n",
    "# defining hyperparameters\n",
    "parameters = {'criterion':['gini', 'entropy', 'log_loss'],\n",
    "    'splitter':['best','random'],\n",
    "    'max_depth':[1,2,3,4,5,6,7],\n",
    "#     min_samples_split:2,\n",
    "#     min_samples_leaf:1,\n",
    "#     min_weight_fraction_leaf:0.0,\n",
    "    'max_features':['auto', 'sqrt', 'log2'],\n",
    "\n",
    "#     random_state:None,\n",
    "#     max_leaf_nodes:None,\n",
    "#     min_impurity_decrease:0.0,\n",
    "#     class_weight:None,\n",
    "#     ccp_alpha:0.0\n",
    "}"
   ]
  },
  {
   "cell_type": "code",
   "execution_count": 15,
   "id": "9b4ff141",
   "metadata": {},
   "outputs": [],
   "source": [
    "from sklearn.model_selection import GridSearchCV"
   ]
  },
  {
   "cell_type": "code",
   "execution_count": 16,
   "id": "e18d2277",
   "metadata": {},
   "outputs": [],
   "source": [
    "DTC = DecisionTreeClassifier()"
   ]
  },
  {
   "cell_type": "code",
   "execution_count": 25,
   "id": "5147b6af",
   "metadata": {},
   "outputs": [],
   "source": [
    "CV = GridSearchCV(DTC,parameters,cv = 5,scoring = 'accuracy')"
   ]
  },
  {
   "cell_type": "code",
   "execution_count": 28,
   "id": "94934269",
   "metadata": {},
   "outputs": [
    {
     "name": "stderr",
     "output_type": "stream",
     "text": [
      "c:\\users\\administrator\\appdata\\local\\programs\\python\\python39\\lib\\site-packages\\sklearn\\model_selection\\_validation.py:372: FitFailedWarning: \n",
      "210 fits failed out of a total of 630.\n",
      "The score on these train-test partitions for these parameters will be set to nan.\n",
      "If these failures are not expected, you can try to debug them by setting error_score='raise'.\n",
      "\n",
      "Below are more details about the failures:\n",
      "--------------------------------------------------------------------------------\n",
      "210 fits failed with the following error:\n",
      "Traceback (most recent call last):\n",
      "  File \"c:\\users\\administrator\\appdata\\local\\programs\\python\\python39\\lib\\site-packages\\sklearn\\model_selection\\_validation.py\", line 681, in _fit_and_score\n",
      "    estimator.fit(X_train, y_train, **fit_params)\n",
      "  File \"c:\\users\\administrator\\appdata\\local\\programs\\python\\python39\\lib\\site-packages\\sklearn\\tree\\_classes.py\", line 937, in fit\n",
      "    super().fit(\n",
      "  File \"c:\\users\\administrator\\appdata\\local\\programs\\python\\python39\\lib\\site-packages\\sklearn\\tree\\_classes.py\", line 352, in fit\n",
      "    criterion = CRITERIA_CLF[self.criterion](\n",
      "KeyError: 'log_loss'\n",
      "\n",
      "  warnings.warn(some_fits_failed_message, FitFailedWarning)\n",
      "c:\\users\\administrator\\appdata\\local\\programs\\python\\python39\\lib\\site-packages\\sklearn\\model_selection\\_search.py:969: UserWarning: One or more of the test scores are non-finite: [0.7  0.66 0.7  0.67 0.72 0.7  0.97 0.66 0.98 0.81 0.92 0.74 0.9  0.85\n",
      " 0.96 0.83 0.99 0.86 0.96 0.88 0.98 0.87 0.98 0.88 0.98 0.94 0.97 0.89\n",
      " 0.98 0.95 0.96 0.9  0.99 0.94 1.   0.95 0.97 0.98 0.97 0.93 0.97 0.93\n",
      " 0.72 0.69 0.72 0.66 0.72 0.65 0.93 0.71 0.95 0.78 0.95 0.76 0.96 0.81\n",
      " 0.99 0.89 0.94 0.78 0.97 0.87 0.98 0.92 0.96 0.9  0.97 0.94 0.95 0.95\n",
      " 0.94 0.92 0.96 0.91 0.96 0.94 0.96 0.94 0.95 0.92 0.98 0.93 0.99 0.94\n",
      "  nan  nan  nan  nan  nan  nan  nan  nan  nan  nan  nan  nan  nan  nan\n",
      "  nan  nan  nan  nan  nan  nan  nan  nan  nan  nan  nan  nan  nan  nan\n",
      "  nan  nan  nan  nan  nan  nan  nan  nan  nan  nan  nan  nan  nan  nan]\n",
      "  warnings.warn(\n"
     ]
    },
    {
     "data": {
      "text/plain": [
       "GridSearchCV(cv=5, estimator=DecisionTreeClassifier(),\n",
       "             param_grid={'criterion': ['gini', 'entropy', 'log_loss'],\n",
       "                         'max_depth': [1, 2, 3, 4, 5, 6, 7],\n",
       "                         'max_features': ['auto', 'sqrt', 'log2'],\n",
       "                         'splitter': ['best', 'random']},\n",
       "             scoring='accuracy')"
      ]
     },
     "execution_count": 28,
     "metadata": {},
     "output_type": "execute_result"
    }
   ],
   "source": [
    "CV.fit(x_train,y_train)"
   ]
  },
  {
   "cell_type": "code",
   "execution_count": 29,
   "id": "9909e8e9",
   "metadata": {},
   "outputs": [
    {
     "data": {
      "text/plain": [
       "{'criterion': 'gini',\n",
       " 'max_depth': 6,\n",
       " 'max_features': 'log2',\n",
       " 'splitter': 'best'}"
      ]
     },
     "execution_count": 29,
     "metadata": {},
     "output_type": "execute_result"
    }
   ],
   "source": [
    "CV.best_params_"
   ]
  },
  {
   "cell_type": "code",
   "execution_count": 33,
   "id": "d47c376b",
   "metadata": {},
   "outputs": [
    {
     "data": {
      "text/plain": [
       "array([1, 2, 3, 3, 2, 3, 3, 3, 3, 2, 3, 1, 1, 3, 3, 2, 1, 3, 2, 3, 2, 2,\n",
       "       3, 1, 3, 3, 1, 2, 1, 3, 3, 1, 1, 1, 2, 2, 2, 2, 1, 3, 3, 2, 3, 3,\n",
       "       2, 2, 2, 2, 1, 3], dtype=int64)"
      ]
     },
     "execution_count": 33,
     "metadata": {},
     "output_type": "execute_result"
    }
   ],
   "source": [
    "y_pred = CV.predict(x_test)\n",
    "y_pred"
   ]
  },
  {
   "cell_type": "code",
   "execution_count": 34,
   "id": "19285732",
   "metadata": {},
   "outputs": [],
   "source": [
    "from sklearn.metrics import accuracy_score as AS"
   ]
  },
  {
   "cell_type": "code",
   "execution_count": 35,
   "id": "18363334",
   "metadata": {},
   "outputs": [
    {
     "name": "stdout",
     "output_type": "stream",
     "text": [
      "the accuracy score is: 94.0\n"
     ]
    }
   ],
   "source": [
    "print(\"the accuracy score is:\",AS(y_test,y_pred)*100)"
   ]
  },
  {
   "cell_type": "code",
   "execution_count": 37,
   "id": "e6f93219",
   "metadata": {},
   "outputs": [
    {
     "name": "stdout",
     "output_type": "stream",
     "text": [
      "              precision    recall  f1-score   support\n",
      "\n",
      "           1       1.00      1.00      1.00        12\n",
      "           2       0.94      0.88      0.91        17\n",
      "           3       0.91      0.95      0.93        21\n",
      "\n",
      "    accuracy                           0.94        50\n",
      "   macro avg       0.95      0.94      0.95        50\n",
      "weighted avg       0.94      0.94      0.94        50\n",
      "\n"
     ]
    }
   ],
   "source": [
    "from sklearn.metrics import classification_report\n",
    "print(classification_report(y_pred,y_test))"
   ]
  },
  {
   "cell_type": "code",
   "execution_count": 38,
   "id": "061c5ef7",
   "metadata": {},
   "outputs": [],
   "source": [
    "#contructing the tree\n",
    "from sklearn import tree\n",
    "import matplotlib.pyplot as plt"
   ]
  },
  {
   "cell_type": "code",
   "execution_count": 41,
   "id": "c88b2d2c",
   "metadata": {},
   "outputs": [],
   "source": [
    "# plt.figure(figsize =(15,10) )\n",
    "# tree.plot_tree(DTC,filled = True,rounded = True)"
   ]
  },
  {
   "cell_type": "code",
   "execution_count": null,
   "id": "b0d18412",
   "metadata": {},
   "outputs": [],
   "source": []
  },
  {
   "cell_type": "code",
   "execution_count": null,
   "id": "9a4eea4f",
   "metadata": {},
   "outputs": [],
   "source": []
  },
  {
   "cell_type": "code",
   "execution_count": null,
   "id": "89bbfde3",
   "metadata": {},
   "outputs": [],
   "source": []
  },
  {
   "cell_type": "code",
   "execution_count": null,
   "id": "ac133218",
   "metadata": {},
   "outputs": [],
   "source": []
  },
  {
   "cell_type": "code",
   "execution_count": null,
   "id": "1e8ce2a8",
   "metadata": {},
   "outputs": [],
   "source": []
  }
 ],
 "metadata": {
  "kernelspec": {
   "display_name": "Python 3",
   "language": "python",
   "name": "python3"
  },
  "language_info": {
   "codemirror_mode": {
    "name": "ipython",
    "version": 3
   },
   "file_extension": ".py",
   "mimetype": "text/x-python",
   "name": "python",
   "nbconvert_exporter": "python",
   "pygments_lexer": "ipython3",
   "version": "3.9.5"
  }
 },
 "nbformat": 4,
 "nbformat_minor": 5
}
