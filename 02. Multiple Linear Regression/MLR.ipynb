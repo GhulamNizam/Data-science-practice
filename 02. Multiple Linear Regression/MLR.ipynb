{
 "cells": [
  {
   "attachments": {},
   "cell_type": "markdown",
   "id": "8f7872ee",
   "metadata": {},
   "source": [
    "# ExamPerformance(%)prediction using various  features"
   ]
  },
  {
   "cell_type": "code",
   "execution_count": 15,
   "id": "a33fdb80",
   "metadata": {},
   "outputs": [],
   "source": [
    "#importing libraries\n",
    "import numpy as np\n",
    "import pandas as pd\n",
    "import matplotlib.pyplot as plt\n",
    "import seaborn as sns"
   ]
  },
  {
   "cell_type": "code",
   "execution_count": 16,
   "id": "3d235e05",
   "metadata": {},
   "outputs": [],
   "source": [
    "#reading data set\n",
    "df = pd.read_csv('student_performance.csv')"
   ]
  },
  {
   "cell_type": "code",
   "execution_count": 17,
   "id": "491c6874",
   "metadata": {},
   "outputs": [
    {
     "data": {
      "text/html": [
       "<div>\n",
       "<style scoped>\n",
       "    .dataframe tbody tr th:only-of-type {\n",
       "        vertical-align: middle;\n",
       "    }\n",
       "\n",
       "    .dataframe tbody tr th {\n",
       "        vertical-align: top;\n",
       "    }\n",
       "\n",
       "    .dataframe thead th {\n",
       "        text-align: right;\n",
       "    }\n",
       "</style>\n",
       "<table border=\"1\" class=\"dataframe\">\n",
       "  <thead>\n",
       "    <tr style=\"text-align: right;\">\n",
       "      <th></th>\n",
       "      <th>SocialMediaTime(hr)</th>\n",
       "      <th>StudyTime(hr)</th>\n",
       "      <th>SleepTime(hr)</th>\n",
       "      <th>ExamPerformance(%)</th>\n",
       "    </tr>\n",
       "  </thead>\n",
       "  <tbody>\n",
       "    <tr>\n",
       "      <th>0</th>\n",
       "      <td>2.3</td>\n",
       "      <td>4.5</td>\n",
       "      <td>7.5</td>\n",
       "      <td>86.6</td>\n",
       "    </tr>\n",
       "    <tr>\n",
       "      <th>1</th>\n",
       "      <td>1.7</td>\n",
       "      <td>6.7</td>\n",
       "      <td>8.1</td>\n",
       "      <td>79.8</td>\n",
       "    </tr>\n",
       "    <tr>\n",
       "      <th>2</th>\n",
       "      <td>3.1</td>\n",
       "      <td>5.2</td>\n",
       "      <td>7.3</td>\n",
       "      <td>90.9</td>\n",
       "    </tr>\n",
       "    <tr>\n",
       "      <th>3</th>\n",
       "      <td>1.9</td>\n",
       "      <td>7.3</td>\n",
       "      <td>7.9</td>\n",
       "      <td>77.9</td>\n",
       "    </tr>\n",
       "    <tr>\n",
       "      <th>4</th>\n",
       "      <td>2.7</td>\n",
       "      <td>5.9</td>\n",
       "      <td>6.8</td>\n",
       "      <td>88.3</td>\n",
       "    </tr>\n",
       "  </tbody>\n",
       "</table>\n",
       "</div>"
      ],
      "text/plain": [
       "   SocialMediaTime(hr)  StudyTime(hr)  SleepTime(hr)  ExamPerformance(%)\n",
       "0                  2.3            4.5            7.5                86.6\n",
       "1                  1.7            6.7            8.1                79.8\n",
       "2                  3.1            5.2            7.3                90.9\n",
       "3                  1.9            7.3            7.9                77.9\n",
       "4                  2.7            5.9            6.8                88.3"
      ]
     },
     "execution_count": 17,
     "metadata": {},
     "output_type": "execute_result"
    }
   ],
   "source": [
    "df.head()"
   ]
  },
  {
   "cell_type": "code",
   "execution_count": 21,
   "id": "468a55f1",
   "metadata": {},
   "outputs": [
    {
     "name": "stdout",
     "output_type": "stream",
     "text": [
      "<class 'pandas.core.frame.DataFrame'>\n",
      "RangeIndex: 60 entries, 0 to 59\n",
      "Data columns (total 4 columns):\n",
      " #   Column               Non-Null Count  Dtype  \n",
      "---  ------               --------------  -----  \n",
      " 0   SocialMediaTime(hr)  60 non-null     float64\n",
      " 1   StudyTime(hr)        60 non-null     float64\n",
      " 2   SleepTime(hr)        60 non-null     float64\n",
      " 3   ExamPerformance(%)   60 non-null     float64\n",
      "dtypes: float64(4)\n",
      "memory usage: 2.0 KB\n",
      "(60, 4)\n"
     ]
    }
   ],
   "source": [
    "df.info()\n",
    "print(df.shape)"
   ]
  },
  {
   "cell_type": "code",
   "execution_count": 22,
   "id": "00587217",
   "metadata": {},
   "outputs": [
    {
     "data": {
      "text/html": [
       "<div>\n",
       "<style scoped>\n",
       "    .dataframe tbody tr th:only-of-type {\n",
       "        vertical-align: middle;\n",
       "    }\n",
       "\n",
       "    .dataframe tbody tr th {\n",
       "        vertical-align: top;\n",
       "    }\n",
       "\n",
       "    .dataframe thead th {\n",
       "        text-align: right;\n",
       "    }\n",
       "</style>\n",
       "<table border=\"1\" class=\"dataframe\">\n",
       "  <thead>\n",
       "    <tr style=\"text-align: right;\">\n",
       "      <th></th>\n",
       "      <th>SocialMediaTime(hr)</th>\n",
       "      <th>StudyTime(hr)</th>\n",
       "      <th>SleepTime(hr)</th>\n",
       "      <th>ExamPerformance(%)</th>\n",
       "    </tr>\n",
       "  </thead>\n",
       "  <tbody>\n",
       "    <tr>\n",
       "      <th>count</th>\n",
       "      <td>60.000000</td>\n",
       "      <td>60.000000</td>\n",
       "      <td>60.000000</td>\n",
       "      <td>60.000000</td>\n",
       "    </tr>\n",
       "    <tr>\n",
       "      <th>mean</th>\n",
       "      <td>2.483333</td>\n",
       "      <td>5.668333</td>\n",
       "      <td>7.506667</td>\n",
       "      <td>84.348333</td>\n",
       "    </tr>\n",
       "    <tr>\n",
       "      <th>std</th>\n",
       "      <td>0.756255</td>\n",
       "      <td>1.291365</td>\n",
       "      <td>0.643314</td>\n",
       "      <td>5.923195</td>\n",
       "    </tr>\n",
       "    <tr>\n",
       "      <th>min</th>\n",
       "      <td>1.200000</td>\n",
       "      <td>3.600000</td>\n",
       "      <td>6.200000</td>\n",
       "      <td>74.400000</td>\n",
       "    </tr>\n",
       "    <tr>\n",
       "      <th>25%</th>\n",
       "      <td>1.900000</td>\n",
       "      <td>4.575000</td>\n",
       "      <td>7.100000</td>\n",
       "      <td>79.700000</td>\n",
       "    </tr>\n",
       "    <tr>\n",
       "      <th>50%</th>\n",
       "      <td>2.300000</td>\n",
       "      <td>5.350000</td>\n",
       "      <td>7.500000</td>\n",
       "      <td>84.150000</td>\n",
       "    </tr>\n",
       "    <tr>\n",
       "      <th>75%</th>\n",
       "      <td>3.200000</td>\n",
       "      <td>6.725000</td>\n",
       "      <td>7.900000</td>\n",
       "      <td>89.500000</td>\n",
       "    </tr>\n",
       "    <tr>\n",
       "      <th>max</th>\n",
       "      <td>3.800000</td>\n",
       "      <td>8.200000</td>\n",
       "      <td>8.700000</td>\n",
       "      <td>94.400000</td>\n",
       "    </tr>\n",
       "  </tbody>\n",
       "</table>\n",
       "</div>"
      ],
      "text/plain": [
       "       SocialMediaTime(hr)  StudyTime(hr)  SleepTime(hr)  ExamPerformance(%)\n",
       "count            60.000000      60.000000      60.000000           60.000000\n",
       "mean              2.483333       5.668333       7.506667           84.348333\n",
       "std               0.756255       1.291365       0.643314            5.923195\n",
       "min               1.200000       3.600000       6.200000           74.400000\n",
       "25%               1.900000       4.575000       7.100000           79.700000\n",
       "50%               2.300000       5.350000       7.500000           84.150000\n",
       "75%               3.200000       6.725000       7.900000           89.500000\n",
       "max               3.800000       8.200000       8.700000           94.400000"
      ]
     },
     "execution_count": 22,
     "metadata": {},
     "output_type": "execute_result"
    }
   ],
   "source": [
    "df.describe()"
   ]
  },
  {
   "cell_type": "code",
   "execution_count": 20,
   "id": "5c43e4b0",
   "metadata": {},
   "outputs": [],
   "source": [
    "# lets perform EDA"
   ]
  },
  {
   "cell_type": "code",
   "execution_count": 12,
   "id": "b24f63b0",
   "metadata": {},
   "outputs": [
    {
     "data": {
      "text/plain": [
       "array([25, 30, 47, 32, 43, 51, 28, 33, 37, 39, 29, 54, 44, 41, 58, 23],\n",
       "      dtype=int64)"
      ]
     },
     "execution_count": 12,
     "metadata": {},
     "output_type": "execute_result"
    }
   ],
   "source": [
    "# df['age'].unique()"
   ]
  },
  {
   "cell_type": "code",
   "execution_count": 32,
   "id": "d51bfc39",
   "metadata": {},
   "outputs": [],
   "source": [
    "#splitting the data set\n",
    "X = df.iloc[:,:-1]\n",
    "Y = df.iloc[:,-1]\n",
    "\n",
    "from sklearn.model_selection import train_test_split as tts\n",
    "\n",
    "x_train,x_test,y_train,y_test = tts(X,Y,test_size = .2,random_state = 42) #random_state = 42, will give same result in every run\n"
   ]
  },
  {
   "cell_type": "code",
   "execution_count": 30,
   "id": "b05e1c4c",
   "metadata": {},
   "outputs": [],
   "source": [
    "# x_train_copied = x_train"
   ]
  },
  {
   "cell_type": "code",
   "execution_count": 35,
   "id": "55978f08",
   "metadata": {},
   "outputs": [],
   "source": [
    "# print(x_train)\n",
    "# print(x_train_copied)"
   ]
  },
  {
   "cell_type": "markdown",
   "id": "b77b260f",
   "metadata": {},
   "source": [
    "Training the model"
   ]
  },
  {
   "cell_type": "code",
   "execution_count": 38,
   "id": "8380a6e3",
   "metadata": {},
   "outputs": [],
   "source": [
    "from sklearn.linear_model import LinearRegression as LR"
   ]
  },
  {
   "cell_type": "code",
   "execution_count": 39,
   "id": "23eeefa3",
   "metadata": {},
   "outputs": [],
   "source": [
    "regressor = LR()"
   ]
  },
  {
   "cell_type": "code",
   "execution_count": 40,
   "id": "62667de2",
   "metadata": {},
   "outputs": [
    {
     "data": {
      "text/plain": [
       "LinearRegression()"
      ]
     },
     "execution_count": 40,
     "metadata": {},
     "output_type": "execute_result"
    }
   ],
   "source": [
    "regressor.fit(x_train,y_train)"
   ]
  },
  {
   "cell_type": "markdown",
   "id": "7c0e5c3a",
   "metadata": {},
   "source": [
    "Evaluating Result"
   ]
  },
  {
   "cell_type": "code",
   "execution_count": 56,
   "id": "83b175c0",
   "metadata": {},
   "outputs": [],
   "source": [
    "y_pred = regressor.predict(x_test)\n"
   ]
  },
  {
   "cell_type": "code",
   "execution_count": 58,
   "id": "bbc651bd",
   "metadata": {},
   "outputs": [
    {
     "data": {
      "text/html": [
       "<div>\n",
       "<style scoped>\n",
       "    .dataframe tbody tr th:only-of-type {\n",
       "        vertical-align: middle;\n",
       "    }\n",
       "\n",
       "    .dataframe tbody tr th {\n",
       "        vertical-align: top;\n",
       "    }\n",
       "\n",
       "    .dataframe thead th {\n",
       "        text-align: right;\n",
       "    }\n",
       "</style>\n",
       "<table border=\"1\" class=\"dataframe\">\n",
       "  <thead>\n",
       "    <tr style=\"text-align: right;\">\n",
       "      <th></th>\n",
       "      <th>Actual</th>\n",
       "      <th>predicted</th>\n",
       "    </tr>\n",
       "  </thead>\n",
       "  <tbody>\n",
       "    <tr>\n",
       "      <th>59</th>\n",
       "      <td>94.4</td>\n",
       "      <td>93.612485</td>\n",
       "    </tr>\n",
       "    <tr>\n",
       "      <th>20</th>\n",
       "      <td>84.7</td>\n",
       "      <td>85.383090</td>\n",
       "    </tr>\n",
       "    <tr>\n",
       "      <th>40</th>\n",
       "      <td>86.1</td>\n",
       "      <td>84.867766</td>\n",
       "    </tr>\n",
       "    <tr>\n",
       "      <th>32</th>\n",
       "      <td>91.3</td>\n",
       "      <td>91.839889</td>\n",
       "    </tr>\n",
       "    <tr>\n",
       "      <th>3</th>\n",
       "      <td>77.9</td>\n",
       "      <td>78.808032</td>\n",
       "    </tr>\n",
       "    <tr>\n",
       "      <th>54</th>\n",
       "      <td>89.7</td>\n",
       "      <td>87.005719</td>\n",
       "    </tr>\n",
       "    <tr>\n",
       "      <th>48</th>\n",
       "      <td>75.7</td>\n",
       "      <td>73.884302</td>\n",
       "    </tr>\n",
       "    <tr>\n",
       "      <th>28</th>\n",
       "      <td>74.4</td>\n",
       "      <td>75.743008</td>\n",
       "    </tr>\n",
       "    <tr>\n",
       "      <th>51</th>\n",
       "      <td>80.9</td>\n",
       "      <td>78.941647</td>\n",
       "    </tr>\n",
       "    <tr>\n",
       "      <th>38</th>\n",
       "      <td>75.5</td>\n",
       "      <td>74.653952</td>\n",
       "    </tr>\n",
       "    <tr>\n",
       "      <th>31</th>\n",
       "      <td>79.1</td>\n",
       "      <td>78.697557</td>\n",
       "    </tr>\n",
       "    <tr>\n",
       "      <th>41</th>\n",
       "      <td>79.4</td>\n",
       "      <td>78.226956</td>\n",
       "    </tr>\n",
       "  </tbody>\n",
       "</table>\n",
       "</div>"
      ],
      "text/plain": [
       "    Actual  predicted\n",
       "59    94.4  93.612485\n",
       "20    84.7  85.383090\n",
       "40    86.1  84.867766\n",
       "32    91.3  91.839889\n",
       "3     77.9  78.808032\n",
       "54    89.7  87.005719\n",
       "48    75.7  73.884302\n",
       "28    74.4  75.743008\n",
       "51    80.9  78.941647\n",
       "38    75.5  74.653952\n",
       "31    79.1  78.697557\n",
       "41    79.4  78.226956"
      ]
     },
     "execution_count": 58,
     "metadata": {},
     "output_type": "execute_result"
    }
   ],
   "source": [
    "# print(y_test,y_pred)\n",
    "\n",
    "out = pd.DataFrame({'Actual':y_test,'predicted':y_pred })\n",
    "\n",
    "out"
   ]
  },
  {
   "cell_type": "markdown",
   "id": "35b80c17",
   "metadata": {},
   "source": [
    "# Model Evaluation:"
   ]
  },
  {
   "cell_type": "code",
   "execution_count": 59,
   "id": "9aad89fd",
   "metadata": {},
   "outputs": [],
   "source": [
    "import sklearn.metrics as sm"
   ]
  },
  {
   "cell_type": "code",
   "execution_count": 63,
   "id": "d923ea16",
   "metadata": {},
   "outputs": [
    {
     "data": {
      "text/plain": [
       "0.96"
      ]
     },
     "execution_count": 63,
     "metadata": {},
     "output_type": "execute_result"
    }
   ],
   "source": [
    "r2 = sm.r2_score(y_test,y_pred)\n",
    "round(r2,2)"
   ]
  },
  {
   "cell_type": "code",
   "execution_count": 64,
   "id": "cc336c5a",
   "metadata": {},
   "outputs": [
    {
     "data": {
      "text/plain": [
       "1.85"
      ]
     },
     "execution_count": 64,
     "metadata": {},
     "output_type": "execute_result"
    }
   ],
   "source": [
    "sq_err = sm.mean_squared_error(y_test,y_pred)\n",
    "round(sq_err,2)"
   ]
  },
  {
   "cell_type": "code",
   "execution_count": 71,
   "id": "62b0c683",
   "metadata": {},
   "outputs": [
    {
     "name": "stdout",
     "output_type": "stream",
     "text": [
      "b1 =  5.634971033761973\n",
      "b2 =  -1.064691634431133\n",
      "b3 =  -0.9968290212528838\n"
     ]
    }
   ],
   "source": [
    "regressor.coef_\n",
    "b1 = regressor.coef_[0]\n",
    "b2 = regressor.coef_[1]\n",
    "b3 = regressor.coef_[2]\n",
    "print('b1 = ',b1)\n",
    "print('b2 = ',b2)\n",
    "print('b3 = ',b3)"
   ]
  },
  {
   "cell_type": "code",
   "execution_count": 74,
   "id": "7c3ca048",
   "metadata": {},
   "outputs": [
    {
     "data": {
      "text/plain": [
       "83.7487855671764"
      ]
     },
     "execution_count": 74,
     "metadata": {},
     "output_type": "execute_result"
    }
   ],
   "source": [
    "c= regressor.intercept_\n",
    "c"
   ]
  },
  {
   "cell_type": "code",
   "execution_count": 76,
   "id": "f09a8dca",
   "metadata": {},
   "outputs": [],
   "source": [
    "# eqn = b1*x1+b2*x2+b3*x3+c"
   ]
  },
  {
   "cell_type": "code",
   "execution_count": null,
   "id": "ac5b3e96",
   "metadata": {},
   "outputs": [],
   "source": []
  }
 ],
 "metadata": {
  "kernelspec": {
   "display_name": "Python 3",
   "language": "python",
   "name": "python3"
  },
  "language_info": {
   "codemirror_mode": {
    "name": "ipython",
    "version": 3
   },
   "file_extension": ".py",
   "mimetype": "text/x-python",
   "name": "python",
   "nbconvert_exporter": "python",
   "pygments_lexer": "ipython3",
   "version": "3.9.5"
  }
 },
 "nbformat": 4,
 "nbformat_minor": 5
}
