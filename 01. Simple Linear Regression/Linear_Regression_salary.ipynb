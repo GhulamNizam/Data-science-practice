{
 "cells": [
  {
   "cell_type": "markdown",
   "id": "65f20bae",
   "metadata": {},
   "source": [
    "importing the libraries"
   ]
  },
  {
   "cell_type": "code",
   "execution_count": 1,
   "id": "cc0d2ce3",
   "metadata": {},
   "outputs": [],
   "source": [
    "import pandas as pd\n",
    "import numpy as np\n",
    "import matplotlib.pyplot as plt "
   ]
  },
  {
   "cell_type": "code",
   "execution_count": 2,
   "id": "e95a0895",
   "metadata": {},
   "outputs": [],
   "source": [
    "df = pd.read_csv('Salary_Data.csv')"
   ]
  },
  {
   "cell_type": "code",
   "execution_count": 3,
   "id": "9c6a690f",
   "metadata": {},
   "outputs": [],
   "source": [
    "x = df.iloc[:,:-1]\n",
    "y = df.iloc[:,-1]"
   ]
  },
  {
   "cell_type": "code",
   "execution_count": 4,
   "id": "19fdfd2f",
   "metadata": {},
   "outputs": [],
   "source": [
    "from sklearn.model_selection import train_test_split as tts"
   ]
  },
  {
   "cell_type": "code",
   "execution_count": 5,
   "id": "3e59d00d",
   "metadata": {},
   "outputs": [],
   "source": [
    "x_train, x_test,y_train,y_test = tts(x,y,test_size = .2, random_state = 0)"
   ]
  },
  {
   "cell_type": "code",
   "execution_count": 7,
   "id": "6c561c38",
   "metadata": {},
   "outputs": [],
   "source": [
    "from sklearn.linear_model import LinearRegression"
   ]
  },
  {
   "cell_type": "code",
   "execution_count": 8,
   "id": "64b57425",
   "metadata": {},
   "outputs": [],
   "source": [
    "LR = LinearRegression()"
   ]
  },
  {
   "cell_type": "code",
   "execution_count": 9,
   "id": "c996ef1e",
   "metadata": {},
   "outputs": [
    {
     "data": {
      "text/plain": [
       "LinearRegression()"
      ]
     },
     "execution_count": 9,
     "metadata": {},
     "output_type": "execute_result"
    }
   ],
   "source": [
    " LR.fit(x_train.values , y_train.values)\n",
    "# x_train.iloc[0: , 0:0]"
   ]
  },
  {
   "cell_type": "code",
   "execution_count": 10,
   "id": "2594daba",
   "metadata": {},
   "outputs": [],
   "source": [
    "y_test_pred = LR.predict(x_test.values)"
   ]
  },
  {
   "cell_type": "code",
   "execution_count": 11,
   "id": "aedb73ad",
   "metadata": {},
   "outputs": [],
   "source": [
    "# print(y_train)\n",
    "# print(y_train_pred)"
   ]
  },
  {
   "cell_type": "code",
   "execution_count": 12,
   "id": "04430f57",
   "metadata": {},
   "outputs": [
    {
     "data": {
      "image/png": "[encoded data removed]",
      "text/plain": [
       "<Figure size 432x288 with 1 Axes>"
      ]
     },
     "metadata": {
      "needs_background": "light"
     },
     "output_type": "display_data"
    }
   ],
   "source": [
    "plt.scatter(x_train.values,y_train.values)\n",
    "plt.plot(x_train.values,LR.predict(x_train.values),color = 'r')\n",
    "# plt.xlabel('x values')\n",
    "# plt.ylabel('y values')\n",
    "plt.show()"
   ]
  },
  {
   "cell_type": "code",
   "execution_count": 13,
   "id": "60afd88a",
   "metadata": {},
   "outputs": [
    {
     "data": {
      "image/png": "[encoded data removed]",
      "text/plain": [
       "<Figure size 432x288 with 1 Axes>"
      ]
     },
     "metadata": {
      "needs_background": "light"
     },
     "output_type": "display_data"
    }
   ],
   "source": [
    "plt.scatter(x_test.values,y_test.values)\n",
    "plt.plot(x_train.values,LR.predict(x_train.values),color = 'r')\n",
    "# plt.xlabel('x values')\n",
    "# plt.ylabel('y values')\n",
    "plt.show()"
   ]
  },
  {
   "cell_type": "code",
   "execution_count": 14,
   "id": "c18fba14",
   "metadata": {},
   "outputs": [
    {
     "name": "stdout",
     "output_type": "stream",
     "text": [
      "[[30]]\n"
     ]
    },
    {
     "data": {
      "text/plain": [
       "array([306157.3529525])"
      ]
     },
     "execution_count": 14,
     "metadata": {},
     "output_type": "execute_result"
    }
   ],
   "source": [
    "x_vals = np.array([[30]]).reshape(-1,1)\n",
    "# # x_val = 100\n",
    "# # type(x_val)\n",
    "print(x_vals)\n",
    "LR.predict(x_vals)"
   ]
  },
  {
   "cell_type": "code",
   "execution_count": 15,
   "id": "a1896acc",
   "metadata": {},
   "outputs": [
    {
     "name": "stdout",
     "output_type": "stream",
     "text": [
      "26780.09915062818\n",
      "[9312.57512673]\n"
     ]
    }
   ],
   "source": [
    "print(LR.intercept_)\n",
    "print(LR.coef_)"
   ]
  },
  {
   "cell_type": "code",
   "execution_count": 18,
   "id": "11ad165f",
   "metadata": {},
   "outputs": [],
   "source": [
    "import sklearn.metrics  as sm"
   ]
  },
  {
   "cell_type": "code",
   "execution_count": 21,
   "id": "e9d03b9d",
   "metadata": {},
   "outputs": [
    {
     "name": "stdout",
     "output_type": "stream",
     "text": [
      "Mean absolute error = 2446.17\n",
      "Mean squared error = 12823412.3\n",
      "Median absolute error = 1675.47\n",
      "Explain variance score = 0.99\n",
      "R2 score = 0.99\n"
     ]
    }
   ],
   "source": [
    "print(\"Mean absolute error =\", round(sm.mean_absolute_error(y_test, y_test_pred), 2)) #MAE = (1/n) * Σ|actual - predicted|\n",
    "print(\"Mean squared error =\", round(sm.mean_squared_error(y_test, y_test_pred), 2))  #MSE = (1/n) * Σ(actual - predicted)^2\n",
    "print(\"Median absolute error =\", round(sm.median_absolute_error(y_test, y_test_pred), 2)) \n",
    "print(\"Explain variance score =\", round(sm.explained_variance_score(y_test, y_test_pred), 2)) \n",
    "print(\"R2 score =\", round(sm.r2_score(y_test, y_test_pred), 2)) #R² = 1 - (SSR/SST), where SSR is the sum of squared residuals and SST is the total sum of squares.\n",
    "\n",
    "##When evaluating a regression model, you typically choose the metric that best suits your problem and objectives. Lower values for MAE, MSE, and RMSE indicate better model performance, while higher values of R-squared (closer to 1) indicate a better fit of the model to the data."
   ]
  },
  {
   "cell_type": "code",
   "execution_count": null,
   "id": "2f1c862f",
   "metadata": {},
   "outputs": [],
   "source": []
  }
 ],
 "metadata": {
  "kernelspec": {
   "display_name": "Python 3",
   "language": "python",
   "name": "python3"
  },
  "language_info": {
   "codemirror_mode": {
    "name": "ipython",
    "version": 3
   },
   "file_extension": ".py",
   "mimetype": "text/x-python",
   "name": "python",
   "nbconvert_exporter": "python",
   "pygments_lexer": "ipython3",
   "version": "3.9.5"
  }
 },
 "nbformat": 4,
 "nbformat_minor": 5
}
